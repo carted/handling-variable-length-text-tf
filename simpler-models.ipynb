{
 "cells": [
  {
   "cell_type": "markdown",
   "id": "b9ce6d15",
   "metadata": {},
   "source": [
    "## References\n",
    "\n",
    "* https://www.kaggle.com/rohitganji13/film-genre-classification-using-nlp\n",
    "* Internal (Carted) TFRecord utilities contributed by [Nilabhra Roy Chowdhury](https://www.linkedin.com/in/nilabhraroychowdhury/)"
   ]
  },
  {
   "cell_type": "markdown",
   "id": "0fee8005",
   "metadata": {},
   "source": [
    "## Setup"
   ]
  },
  {
   "cell_type": "code",
   "execution_count": 1,
   "id": "65fc8c36",
   "metadata": {},
   "outputs": [],
   "source": [
    "import tensorflow as tf\n",
    "import tensorflow_text as text\n",
    "import tensorflow_hub as hub\n",
    "\n",
    "from sklearn.preprocessing import LabelEncoder\n",
    "from sklearn.model_selection import train_test_split\n",
    "from typing import Callable, Tuple\n",
    "import pandas as pd\n",
    "import numpy as np\n",
    "import random\n",
    "import tqdm\n",
    "\n",
    "SEED = 42\n",
    "tf.random.set_seed(SEED)\n",
    "np.random.seed(SEED)\n",
    "random.seed(SEED)"
   ]
  },
  {
   "cell_type": "markdown",
   "id": "fe67b35a",
   "metadata": {},
   "source": [
    "## Data loading\n",
    "\n",
    "Data comes from here: https://www.kaggle.com/hijest/genre-classification-dataset-imdb."
   ]
  },
  {
   "cell_type": "code",
   "execution_count": 2,
   "id": "a39fc6ff",
   "metadata": {},
   "outputs": [],
   "source": [
    "train_df = pd.read_csv(\n",
    "    \"./data/train_data.txt\",\n",
    "    engine=\"python\",\n",
    "    sep=\" ::: \",\n",
    "    names=[\"id\", \"movie\", \"genre\", \"summary\"],\n",
    ")\n",
    "\n",
    "test_df = pd.read_csv(\n",
    "    \"./data/test_data_solution.txt\",\n",
    "    engine=\"python\",\n",
    "    sep=\" ::: \",\n",
    "    names=[\"id\", \"movie\", \"genre\", \"summary\"],\n",
    ")"
   ]
  },
  {
   "cell_type": "code",
   "execution_count": 3,
   "id": "4c1b5c6d",
   "metadata": {},
   "outputs": [
    {
     "data": {
      "text/html": [
       "<div>\n",
       "<style scoped>\n",
       "    .dataframe tbody tr th:only-of-type {\n",
       "        vertical-align: middle;\n",
       "    }\n",
       "\n",
       "    .dataframe tbody tr th {\n",
       "        vertical-align: top;\n",
       "    }\n",
       "\n",
       "    .dataframe thead th {\n",
       "        text-align: right;\n",
       "    }\n",
       "</style>\n",
       "<table border=\"1\" class=\"dataframe\">\n",
       "  <thead>\n",
       "    <tr style=\"text-align: right;\">\n",
       "      <th></th>\n",
       "      <th>id</th>\n",
       "      <th>movie</th>\n",
       "      <th>genre</th>\n",
       "      <th>summary</th>\n",
       "    </tr>\n",
       "  </thead>\n",
       "  <tbody>\n",
       "    <tr>\n",
       "      <th>0</th>\n",
       "      <td>1</td>\n",
       "      <td>Oscar et la dame rose (2009)</td>\n",
       "      <td>drama</td>\n",
       "      <td>Listening in to a conversation between his doc...</td>\n",
       "    </tr>\n",
       "    <tr>\n",
       "      <th>1</th>\n",
       "      <td>2</td>\n",
       "      <td>Cupid (1997)</td>\n",
       "      <td>thriller</td>\n",
       "      <td>A brother and sister with a past incestuous re...</td>\n",
       "    </tr>\n",
       "    <tr>\n",
       "      <th>2</th>\n",
       "      <td>3</td>\n",
       "      <td>Young, Wild and Wonderful (1980)</td>\n",
       "      <td>adult</td>\n",
       "      <td>As the bus empties the students for their fiel...</td>\n",
       "    </tr>\n",
       "    <tr>\n",
       "      <th>3</th>\n",
       "      <td>4</td>\n",
       "      <td>The Secret Sin (1915)</td>\n",
       "      <td>drama</td>\n",
       "      <td>To help their unemployed father make ends meet...</td>\n",
       "    </tr>\n",
       "    <tr>\n",
       "      <th>4</th>\n",
       "      <td>5</td>\n",
       "      <td>The Unrecovered (2007)</td>\n",
       "      <td>drama</td>\n",
       "      <td>The film's title refers not only to the un-rec...</td>\n",
       "    </tr>\n",
       "  </tbody>\n",
       "</table>\n",
       "</div>"
      ],
      "text/plain": [
       "   id                             movie     genre  \\\n",
       "0   1      Oscar et la dame rose (2009)     drama   \n",
       "1   2                      Cupid (1997)  thriller   \n",
       "2   3  Young, Wild and Wonderful (1980)     adult   \n",
       "3   4             The Secret Sin (1915)     drama   \n",
       "4   5            The Unrecovered (2007)     drama   \n",
       "\n",
       "                                             summary  \n",
       "0  Listening in to a conversation between his doc...  \n",
       "1  A brother and sister with a past incestuous re...  \n",
       "2  As the bus empties the students for their fiel...  \n",
       "3  To help their unemployed father make ends meet...  \n",
       "4  The film's title refers not only to the un-rec...  "
      ]
     },
     "execution_count": 3,
     "metadata": {},
     "output_type": "execute_result"
    }
   ],
   "source": [
    "# Viewing training data\n",
    "train_df.head()"
   ]
  },
  {
   "cell_type": "markdown",
   "id": "d2754413",
   "metadata": {},
   "source": [
    "## Data splitting"
   ]
  },
  {
   "cell_type": "code",
   "execution_count": 4,
   "id": "51e8d0d6",
   "metadata": {},
   "outputs": [
    {
     "name": "stdout",
     "output_type": "stream",
     "text": [
      "Number of training samples: 48792.\n",
      "Number of validation samples: 5422.\n",
      "Number of test examples: 54200.\n"
     ]
    }
   ],
   "source": [
    "# Split the data using train_test_split from sklearn\n",
    "train_shuffled = train_df.sample(frac=1)\n",
    "train_df_new, val_df = train_test_split(train_shuffled, test_size=0.1)\n",
    "\n",
    "print(f\"Number of training samples: {len(train_df_new)}.\")\n",
    "print(f\"Number of validation samples: {len(val_df)}.\")\n",
    "print(f\"Number of test examples: {len(test_df)}.\")"
   ]
  },
  {
   "cell_type": "code",
   "execution_count": 5,
   "id": "149c90e6",
   "metadata": {},
   "outputs": [
    {
     "name": "stderr",
     "output_type": "stream",
     "text": [
      "/var/folders/z_/d29z43w90kz6f4kbzv5c9m9r0000gn/T/ipykernel_55467/1955168234.py:4: SettingWithCopyWarning: \n",
      "A value is trying to be set on a copy of a slice from a DataFrame.\n",
      "Try using .loc[row_indexer,col_indexer] = value instead\n",
      "\n",
      "See the caveats in the documentation: https://pandas.pydata.org/pandas-docs/stable/user_guide/indexing.html#returning-a-view-versus-a-copy\n",
      "  train_df_new[\"genre\"] = le.transform(train_df_new[\"genre\"].values)\n",
      "/var/folders/z_/d29z43w90kz6f4kbzv5c9m9r0000gn/T/ipykernel_55467/1955168234.py:5: SettingWithCopyWarning: \n",
      "A value is trying to be set on a copy of a slice from a DataFrame.\n",
      "Try using .loc[row_indexer,col_indexer] = value instead\n",
      "\n",
      "See the caveats in the documentation: https://pandas.pydata.org/pandas-docs/stable/user_guide/indexing.html#returning-a-view-versus-a-copy\n",
      "  val_df[\"genre\"] = le.transform(val_df[\"genre\"].values)\n"
     ]
    }
   ],
   "source": [
    "le = LabelEncoder()\n",
    "le.fit(train_df_new[\"genre\"].values) \n",
    "\n",
    "train_df_new[\"genre\"] = le.transform(train_df_new[\"genre\"].values)\n",
    "val_df[\"genre\"] = le.transform(val_df[\"genre\"].values)\n",
    "test_df[\"genre\"] = le.transform(test_df[\"genre\"].values)"
   ]
  },
  {
   "cell_type": "markdown",
   "id": "18668652",
   "metadata": {},
   "source": [
    "## Rough attempt at modeling with [`padded_batch()`](https://www.tensorflow.org/api_docs/python/tf/data/Dataset#padded_batch)"
   ]
  },
  {
   "cell_type": "code",
   "execution_count": 7,
   "id": "5ba03fa0",
   "metadata": {},
   "outputs": [
    {
     "name": "stdout",
     "output_type": "stream",
     "text": [
      "tf.Tensor(b\"On a lonely stretch of a highway, Ronit - pulls up in to a desolate pump to fill petrol. The attendant informs him that his car's fan belt is broken and a new one will only arrive in the morning. Stuck in the middle of nowhere, Ronit prepares to stake the night out in his car. When another car pulls in. The driver is a dignified, well-spoken man who lives a few miles away. He offers to house Ronit for the night, promising to drop him back in the morning. Ronit agrees, believing there is a god. But then there is also the devil.\", shape=(), dtype=string)\n"
     ]
    }
   ],
   "source": [
    "dataset = tf.data.Dataset.from_tensor_slices(train_df_new[\"summary\"])\n",
    "\n",
    "for sample in dataset.take(1):\n",
    "    print(sample)"
   ]
  },
  {
   "cell_type": "code",
   "execution_count": 8,
   "id": "aa18d082",
   "metadata": {},
   "outputs": [
    {
     "name": "stdout",
     "output_type": "stream",
     "text": [
      "(32,)\n"
     ]
    }
   ],
   "source": [
    "dataset = dataset.padded_batch(32)\n",
    "\n",
    "for sample in dataset.take(1):\n",
    "    print(sample.shape)"
   ]
  },
  {
   "cell_type": "code",
   "execution_count": 9,
   "id": "10305824",
   "metadata": {},
   "outputs": [
    {
     "data": {
      "text/plain": [
       "<tf.Tensor: shape=(32,), dtype=string, numpy=\n",
       "array([b\"On a lonely stretch of a highway, Ronit - pulls up in to a desolate pump to fill petrol. The attendant informs him that his car's fan belt is broken and a new one will only arrive in the morning. Stuck in the middle of nowhere, Ronit prepares to stake the night out in his car. When another car pulls in. The driver is a dignified, well-spoken man who lives a few miles away. He offers to house Ronit for the night, promising to drop him back in the morning. Ronit agrees, believing there is a god. But then there is also the devil.\",\n",
       "       b'A young man enjoys his perfect existence. He has everything his heart desires: a beautiful girlfriend, a nice home and a good job. When his perfect life seems to slowly slip away, he wonders whether it was ever truly his... and he has to get even with himself.',\n",
       "       b'A crew of deep space researchers investigates a peculiar asteroid that is covered by what appear to be hieroglyphics. In their curiosity, they cut it open and unleash a being of pure darkness; an ancient god that is hell bent on destroying all things spawned from the light. Now, the crew must fight not only for their lives, but also their souls. Starring Robert Pralgo (The Blind Side, The Gates) with special appearances by Daphne Reid (Fresh Prince of Bel-Air) and Mark Joy (Dog Days of Summer, Border Town, Dogma). Pantheon Black is a twisted sci-fi thriller that will leave you shivering with awe and terror.',\n",
       "       b\"Do you remember the last time you've talked to your parents? What did you talk about? Have you gone step further from weather forecast and daily politics? Five years after last gathering, a birthday celebration brings together an ordinary four member family. They start questioning what made them turn away from each other... Can having a conversation about buried family secrets help them eat without cramps in the stomach in the future? Can a failed birthday cake help them overcome the past? Through the ritual of family meals, the film tells how important is for us to feel accepted by our loved ones.\",\n",
       "       b\"When Mette Holm begins to translate Haruki Murakami's debut novel Kaze no uta o kike, Hear the Wind Sing, a two-meter-tall frog shows up at an underground station in Tokyo. The Frog follows her, determined to engage the translator in its fight against the gigantic Worm, which is slowly waking from a deep sleep, ready to destroy the world with hatred. More than twenty years ago, Mette read a novel by Haruki Murakami, who had yet to reach literary stardom. Back then, she had no idea how the Japanese author's imagined worlds would steadily shape and transform her own. Since then Mette Holm has spent thousands of hours translating Murakami's puzzling and widely discussed stories to his Danish readers. Stories that continuously spellbind and challenge millions of devoted readers all over the planet. As Mette struggles to find the perfect sentences capable of communicating what Murakami's solitary, daydreaming characters are trying to tell us, the boundary between reality and imagination begins to blur.\",\n",
       "       b'An awe-struck Hammer heads west with Verbinski and Bruckheimer to Rio Puerco, New Mexico, a little town outside of Albuquerque where the cast and crew of The Lone Ranger endure dust storms and a host of other challenges. From there, the production pushes on to Moab, Utah and other desert locations.',\n",
       "       b'Set in the Salento Region, the farthest strip in the heel of the Italian peninsula. This documentary recounts the day of four people who, aside from their normal routine work (sometimes alienating), find ways to express their artistic skills.',\n",
       "       b'When war correspondents move on to their next conflict, a more personal struggle is just beginning for those left behind. Poverty, PTSD, and political corruption continue to stifle recovery nearly 20 years after the brutal civil war in Bosnia Herzegovina. Luckily for some in the small mountain town of Livno, an unorthodox leader has emerged, giving struggling veterans and their community an unlikely path to healing. A paramilitary leader at the young age of 20, Lija led the successful defense of his town while neighbors fell to the invading forces. Today he heads the Wolves, a motorcycle club that resembles the stereotype in rough image only. Under his leadership, this wild crew has become a positive force for good with a self-defined humanitarian focus. One mission captures their spirit more than any other. In the mountains where they once fought, they now defend a herd of wild horses that society has similarly deemed expendable. A harsh environment, poachers, and urbanization continually threaten the herd. Stirred by their strength, the Wolves are determined to control their own fate and finally emerge from the shadows of war.',\n",
       "       b\"Tiflis, Georgia 1992: Nika, an unemployed film director gets the chance to escape Tiflis, the Georgian capital raged by civil war. The Berlin zoo invites him and the former stuntman Toma to accompany Chola, the old studio brown bear on the long journey to Germany. Nika dreamed for a long time to participate with one of his films at the Berlinale Film Festival but after a fire was blasting the original material of his last movie he abandoned his hope. So Chola and the Berlin zoo is the last way out. Some days later everything is arranged to transport Chola and the van is waiting in front of the studio as a group of marauding soldiers start a gunfight. One of the bullets strikes Chola and the bear is dead....The only option for Nika is to put on a bear's dress and to start the journey instead of Chola. A journey full of obstacles from Georgia, through Turkey, the Balkans and Eastern Europe to Berlin is taking its course...\",\n",
       "       b\"Mbarek is a farmer who ekes out a living on a small plot of land in a rural Moroccan village. He lives there with his pregnant wife Ayda, his sick father and his teen-aged son Ayoub who has Down's Syndrome. This small piece of land is the family's sole source of income, and the family is devastated when the village is hit by a severe drought. Mbarek begins to dig a well in the desperate hope of finding a new source of water, when an official letter arrives threatening the confiscation of his land.\",\n",
       "       b\"From 1886 to 1907 in the life of Sofie, a Jew in Copenhagen who is nearly 29, with no marital prospects, living with her loving parents. An artist, Hans Hojby, meets Sofie and is entranced, asking to paint her parents and also sketching her. She's responds, but he's not Jewish, and the family reacts by encouraging a marriage to Jonas, a homely draper. Sofie accepts this plan, accompanying her new husband to his town and bearing a son. As he withdraws in mental illness, Sofie begins an affair with his brother, and later returns to live with her parents. A confrontation with Hojby is inevitable as is her son's growing into adulthood and forming his own ideas about religion.\",\n",
       "       b\"The Point is the name commonly given to one of Montreal's poorest neighbourhoods, Point St. Charles. In this film, the stories of 35 kids from the Point, gathered at scripting workshops, are woven into a narrative structure by screenwriters, and the kids play themselves in front of the camera. The result is a remarkable drama about one fated weekend when the teenagers' lives unexpectedly intersect to solve a mystery that has haunted their neighbourhood for years. A truly collaborative process from page to screen, The Point gives sound and vision to these teenagers born on the wrong side of the tracks.\",\n",
       "       b\"Performer 'Ken Murray (I)' (qv) first arrived in Hollywood in 1927 a relative unknown from his then hometown of Kingston, New York. Instead of sending postcards of Hollywood back to his family, he instead purchased a 16mm camera, filmed Hollywood stars - many he didn't even know at the time - and sent the resulting film back to his family. This movie is a compilation of much of that footage taken over thirty-five years, plus some additional professional footage provided by his now Hollywood friends. The footage takes place on the street, on movie sets, and wherever Hollywood stars play and/or relax, including their homes. Some of those stars were well established at the time, while others were just at the beginning of what is now their established careers. Murray himself narrates, telling stories of the footage itself and/or of the personalities involved.\",\n",
       "       b'Samantha Corey is a bright young woman living in Los Angeles. A successful artist and photographer with a loving boyfriend, Nick, and close-nit group of friends. When Sam organizes a group trip to Nicks Cabin at the idyllic Darkfall Lake little does she know that recently released convict Ray, an ex-flame, is about to track her down. As events unfold on Darkfall Lake Sam is plunged into a situation that pits her own internal light and dark sides against each other, this age old dichotomy simultaneously personified in the characters of Nick and Ray. With the situation changing by the second nothing is as it first seems and no choice is ever as black or white as it may seem. Samantha is a successful artist living in L.A. with her boyfriend Nick and a close-nit group of friends. When she organizes a trip to the idyllic Darkfall Lake she has no idea that ex-con Ray, an old flame, is about to descend on the group.',\n",
       "       b'THE ORDER OF REVELATION is a long-form multipart silent 16mm experimental film translating the Quran from Arabic to Visual, in the order in which it was revealed rather than the order in which it was canonized; THE ORDER OF REVELATION: 1-5 is a translation of the first 5 chapters.',\n",
       "       b\"The rich Haller family have lost nearly all their money after investing in the stock market. They need more money, but from where? They have a young house-maid, Sara, who inherits a fortune from a rich uncle in Australia. Sara is in love with the son in the family, Georg Haller, but he won't marry for money. She has to spend all her money if she will ever marry him...\",\n",
       "       b'Dramatic turn in attitude towards avalanches and natural distasters took place after the 1995 avalanches in Iceland. Resulting in change in policy making and more international collaboration in designing defenses and risk assessments. Journalists also reflect on the effect the disasters had on their work, both professionally and personally.',\n",
       "       b'Assi, a screenwriter and poet, is stuck in his personal life. He is full of doubt, disturbing thoughts, and existential restlessness. He is sentenced to community service due to a drunken-driving motorcycle accident in which he was involved. For his community service, he is sent to work with juvenile delinquents in Beersheba - the desert city in southern Israel - who are under house arrest and must attend sessions with Assi in the neighborhood shelter as a condition for their parole. Their extreme personalities, their riotous energy, and their charm awaken in him curiosity and attraction; together, they break through the boundaries of the rehabilitative framework.',\n",
       "       b'Kelly Royce is working as a dancer in a bar, and she soon has a secret admire who addresses the love notes to her as \"Kelly 18.\" A fellow stripper assumes that Kelly is the mysterious note writer\\'s eighteenth intended conquest. But, as the notes continue to come her way, Kelly becomes concerned about their true intent, and that she may actually be her admirers eighteenth intended victim.',\n",
       "       b\"Katya, Zhanna and Irina are cheerful middle-aged friends. There are no secrets between them, they are used to trust each other and help with any problem. And these ladies do not have to look for trouble - trouble can find them by itself. When having diner in caf\\xc3\\xa9, ladies notice an odd couple at the next table: a woman secretly passes an envelope to a man. And few minutes later they see this man murdered in the toilet. Before the arrival of police Katya managed not only to leave her fingerprints on the gun, but to grab a dead man's envelope with photos. And now our heroines will have to investigate this case by themselves before Katya gets convicted of murder. The victim was a private investigator who had blackmailed people he was hired to follow. They paid for his silence. The friends reviewed his recent cases trying to understand, which blackmailed was most afraid of exposure.\",\n",
       "       b'In a truly wacky world, in the 21st century, a group of teens get caught up in some weird events including, but not limited to, being tackled in a field and forced to do YouTube, kidnapped by a demon teddy bear, being kidnapped by a demon teddy bear again, escape the dimension and gain a tool that allows you to hop between universes, accidentally making a device become sentient and nuke the world, being chased by a pumpkin man, time travel, clones of themselves from multiple universes and many more.',\n",
       "       b'This is a story about a Christian woman named Tanya James who survives domestic violence. She believed she was in love with her husband, even though he controlled the relationship by abusing her physically and emotionally. The Ambassador from Nigeria who is also her boss comes into the picture. From the moment he laid eyes on Tanya, he was instantly hooked, but being the sweet person that he is he never let her know how he felt. But, then when things started getting out of control with Tanya and her husband, he steps in. A lot of things happen but, luckily it does ends up being a happy ending...for some.',\n",
       "       b\"Feature-length documentary centered around the terrifying and world-renowned House of Shock, taking audiences on a dark and fast-paced journey they'll never forget through one of the most extreme haunted houses the world has ever seen. Complete with all the blood, guts, heavy metal and mayhem that has kept House of Shock at the forefront for two decades, this movie peels back the skin to explore the huge and growing obsession with fear itself as the uniting force behind a subculture that can't get enough of things that go bump in the night and make your hair stand on end. The House of Shock, located in New Orleans, Louisiana, and first established by, among others, Pantera frontman - Phil Anselmo, has been a haven for some of heavy metal and hard rock's biggest stars over the years and was named by the Travel Channel as America's most extreme haunted attraction. Despite protests and attacks by religious groups and the impact of Hurricane Katrina, House of Shock continues to bring its own brand of terror to the masses year after year. Featuring live musical performances, freak shows, suspension acts and a skin-melting pyrotechnic stage show, House of Shock prepares its all-too-willing patrons for a horrifying gauntlet of monsters, demons and pure evil that leaves some crying, some laughing and some literally scared to death. HOS, filmed during House of Shock's 20th season, captures this bone-chilling experience from every angle and explores the subculture of the fear-obsessed through interviews with some of the biggest names in metal, hard rock and horror, as well as patrons, fans, dissenters and those who work behind the scenes to bring House of Shock and other horror content and attractions to life. No matter their walk of life, those who crave the rush of being afraid and those who dedicate themselves to creating ever more terrifying experiences for others are bound by their obsession with fear - and a family is born.\",\n",
       "       b\"A German documentary studying concepts of hell developed over time in Christianity, Judaism and Islam, often overlapping -but not in Catholicism- with purgatory. Special attention goes to 'physical' methods of torture in the afterlife, as in Dante's Inferno. Their inspiration stems partially from judicial torments, as used during the Inquisition to redeem 'Satanic' sinners, from witches and heretics to mere gay people. Also treated is hell's theological and 'educational' meaning.\",\n",
       "       b'John Gunther, who had traveled to many areas of the world, hosted this program that showed two filmed trips to exotic locations. The first film had been shot explicitly for this show; the second film had been made by some other group or person.',\n",
       "       b\"This film tells the story about the contributions that women did in the Canadian wartime aviation industry doing manufacturing jobs that were considered unthinkable before World War II. This film in particular focuses on the staff of Canadian Car and Foundry in Fort William which was a major producer of Hurricane and Helldiver fighters as the women did their jobs while dealing the sexism around them. In addition, this film features the story of the company's Chief Aeronautical Engineer, Elsie MacGill, who was the first Canadian female engineering graduate and the world's first woman to design an airplane.\",\n",
       "       b\"In 1961 President John F. Kennedy started the United States on a path of discovery and exploration that captures the best of mankind's spirit. On April 12th, 1961, the Soviet Union reports the successful launch, orbit and reentry of the first man in space, Cosmonaut Yuri Gagarin pushing the cold war into a space duel. With the collapse of communism and the rise of freedom in the Russian Federation, recent access to documents in the Kremlin archives reveal a story intended to remain buried forever. Yuri Gagarin, the icon of triumphant communism known world over, was not the first man in space. He was preceded by Vladimir Ilyushin, an unsung hero and the man at the center of this decades old conspiracy.\",\n",
       "       b\"The 'End of a Melody' is a tragic story of a young man who makes the decision to give into the destructive ways of peer pressure. Underage drinking is a huge danger in society today and is getting worse. After a track meet, the friends go out to a party. While driving along, Jazmin notices signs of Trae and Lamon intoxication. As they argue, Trae swerves off the road and hits a tree. Days later, Trae is walks through a cemetery and approaches Jazmin's tombstone. He regretfully places a rose on her grave knowing it's his fault she's no longer alive. Trae realizes now the dangers of underage drinking and driving. Unfortunately, it is too late for his girlfriend Jazmin.\",\n",
       "       b\"The film has an element of music-tour documentary, but it is equally mixed with travelogue and ethnographic study. It is without the frenetic pace of the Dylan films or the intense purposefulness of the Chicago films, but instead it offers an outsider's curious gaze with an attempt to bridge cultural and geographic gulfs. Sally Grossman's voice-over translations of song lyrics and poetry lend the film a tranquility unlike anything else in Alk's work.\",\n",
       "       b\"Inner Beauty portrays a Character name Claire that has been dealing with Low self-esteem issues about her outer body since she was a child, because of the mental and physical abuse she witnessed growing up. She has an ongoing battle with obesity and does not realize her self- worth. Claire meets a man that tells her she is beautiful inside and out and that greater beauty comes from within. Later she finds out that he is a doctor and he offers her help to love herself. She denies any help and continues to battle depression. Low self-esteem is often the root cause of one's inability to lose weight and keep it off for good. In Claire's case she has had difficulty letting go of her past demons and therefore it causes her to have very low self-esteem and she becomes depressed and goes to a very DARK place. Most People with low self-esteem have an internal dialogue that tells them they're not good enough or they are inadequate. In Claire's case she witnessed firsthand verbal and physical abuse because of obesity and it caused a self-fulfilling prophecy. What is Claire's Fate?\",\n",
       "       b\"In God's Messengers, the film's director, Itzik Lerner, was allowed full access into the Hilltop Youth of Gilad Farm, the group of Jewish settlers who inhabit the unauthorized outpost of Havat Gilad. The resulting film contains an intimate documentation of the most radical Jewish outpost in all the West Bank. The threat of evacuation hangs over their heads as they confront the Israeli government, its security forces, court system and their Palestinians neighbors. Rebellious, often lawless, and sometimes violent, they are guided by an ideology that knows no compromise. Lerner's intense, nonstop profile of the Hilltop Youth is a seat-of-your-pants journey into the center of the extreme national-religious settler movement.\",\n",
       "       b\"A courtroom is a theatre and a death may be staged. Two policemen are accused in a court of law of the unlawful murder of J. J's mother is questioned by the police officers' defense attorney, to determine who her son was: was he really who he is said to have been? Found beside his body is a gun and drugs.\"],\n",
       "      dtype=object)>"
      ]
     },
     "execution_count": 9,
     "metadata": {},
     "output_type": "execute_result"
    }
   ],
   "source": [
    "sample"
   ]
  },
  {
   "cell_type": "code",
   "execution_count": 12,
   "id": "4b48ac02",
   "metadata": {},
   "outputs": [],
   "source": [
    "labels_ = tf.data.Dataset.from_tensor_slices(train_df_new[\"genre\"]).batch(32)\n",
    "dataset_ = tf.data.Dataset.zip((dataset, labels_))"
   ]
  },
  {
   "cell_type": "code",
   "execution_count": 13,
   "id": "dfbe7eaf",
   "metadata": {},
   "outputs": [
    {
     "name": "stdout",
     "output_type": "stream",
     "text": [
      "tf.Tensor(\n",
      "[b\"On a lonely stretch of a highway, Ronit - pulls up in to a desolate pump to fill petrol. The attendant informs him that his car's fan belt is broken and a new one will only arrive in the morning. Stuck in the middle of nowhere, Ronit prepares to stake the night out in his car. When another car pulls in. The driver is a dignified, well-spoken man who lives a few miles away. He offers to house Ronit for the night, promising to drop him back in the morning. Ronit agrees, believing there is a god. But then there is also the devil.\"\n",
      " b'A young man enjoys his perfect existence. He has everything his heart desires: a beautiful girlfriend, a nice home and a good job. When his perfect life seems to slowly slip away, he wonders whether it was ever truly his... and he has to get even with himself.'\n",
      " b'A crew of deep space researchers investigates a peculiar asteroid that is covered by what appear to be hieroglyphics. In their curiosity, they cut it open and unleash a being of pure darkness; an ancient god that is hell bent on destroying all things spawned from the light. Now, the crew must fight not only for their lives, but also their souls. Starring Robert Pralgo (The Blind Side, The Gates) with special appearances by Daphne Reid (Fresh Prince of Bel-Air) and Mark Joy (Dog Days of Summer, Border Town, Dogma). Pantheon Black is a twisted sci-fi thriller that will leave you shivering with awe and terror.'\n",
      " b\"Do you remember the last time you've talked to your parents? What did you talk about? Have you gone step further from weather forecast and daily politics? Five years after last gathering, a birthday celebration brings together an ordinary four member family. They start questioning what made them turn away from each other... Can having a conversation about buried family secrets help them eat without cramps in the stomach in the future? Can a failed birthday cake help them overcome the past? Through the ritual of family meals, the film tells how important is for us to feel accepted by our loved ones.\"\n",
      " b\"When Mette Holm begins to translate Haruki Murakami's debut novel Kaze no uta o kike, Hear the Wind Sing, a two-meter-tall frog shows up at an underground station in Tokyo. The Frog follows her, determined to engage the translator in its fight against the gigantic Worm, which is slowly waking from a deep sleep, ready to destroy the world with hatred. More than twenty years ago, Mette read a novel by Haruki Murakami, who had yet to reach literary stardom. Back then, she had no idea how the Japanese author's imagined worlds would steadily shape and transform her own. Since then Mette Holm has spent thousands of hours translating Murakami's puzzling and widely discussed stories to his Danish readers. Stories that continuously spellbind and challenge millions of devoted readers all over the planet. As Mette struggles to find the perfect sentences capable of communicating what Murakami's solitary, daydreaming characters are trying to tell us, the boundary between reality and imagination begins to blur.\"\n",
      " b'An awe-struck Hammer heads west with Verbinski and Bruckheimer to Rio Puerco, New Mexico, a little town outside of Albuquerque where the cast and crew of The Lone Ranger endure dust storms and a host of other challenges. From there, the production pushes on to Moab, Utah and other desert locations.'\n",
      " b'Set in the Salento Region, the farthest strip in the heel of the Italian peninsula. This documentary recounts the day of four people who, aside from their normal routine work (sometimes alienating), find ways to express their artistic skills.'\n",
      " b'When war correspondents move on to their next conflict, a more personal struggle is just beginning for those left behind. Poverty, PTSD, and political corruption continue to stifle recovery nearly 20 years after the brutal civil war in Bosnia Herzegovina. Luckily for some in the small mountain town of Livno, an unorthodox leader has emerged, giving struggling veterans and their community an unlikely path to healing. A paramilitary leader at the young age of 20, Lija led the successful defense of his town while neighbors fell to the invading forces. Today he heads the Wolves, a motorcycle club that resembles the stereotype in rough image only. Under his leadership, this wild crew has become a positive force for good with a self-defined humanitarian focus. One mission captures their spirit more than any other. In the mountains where they once fought, they now defend a herd of wild horses that society has similarly deemed expendable. A harsh environment, poachers, and urbanization continually threaten the herd. Stirred by their strength, the Wolves are determined to control their own fate and finally emerge from the shadows of war.'\n",
      " b\"Tiflis, Georgia 1992: Nika, an unemployed film director gets the chance to escape Tiflis, the Georgian capital raged by civil war. The Berlin zoo invites him and the former stuntman Toma to accompany Chola, the old studio brown bear on the long journey to Germany. Nika dreamed for a long time to participate with one of his films at the Berlinale Film Festival but after a fire was blasting the original material of his last movie he abandoned his hope. So Chola and the Berlin zoo is the last way out. Some days later everything is arranged to transport Chola and the van is waiting in front of the studio as a group of marauding soldiers start a gunfight. One of the bullets strikes Chola and the bear is dead....The only option for Nika is to put on a bear's dress and to start the journey instead of Chola. A journey full of obstacles from Georgia, through Turkey, the Balkans and Eastern Europe to Berlin is taking its course...\"\n",
      " b\"Mbarek is a farmer who ekes out a living on a small plot of land in a rural Moroccan village. He lives there with his pregnant wife Ayda, his sick father and his teen-aged son Ayoub who has Down's Syndrome. This small piece of land is the family's sole source of income, and the family is devastated when the village is hit by a severe drought. Mbarek begins to dig a well in the desperate hope of finding a new source of water, when an official letter arrives threatening the confiscation of his land.\"\n",
      " b\"From 1886 to 1907 in the life of Sofie, a Jew in Copenhagen who is nearly 29, with no marital prospects, living with her loving parents. An artist, Hans Hojby, meets Sofie and is entranced, asking to paint her parents and also sketching her. She's responds, but he's not Jewish, and the family reacts by encouraging a marriage to Jonas, a homely draper. Sofie accepts this plan, accompanying her new husband to his town and bearing a son. As he withdraws in mental illness, Sofie begins an affair with his brother, and later returns to live with her parents. A confrontation with Hojby is inevitable as is her son's growing into adulthood and forming his own ideas about religion.\"\n",
      " b\"The Point is the name commonly given to one of Montreal's poorest neighbourhoods, Point St. Charles. In this film, the stories of 35 kids from the Point, gathered at scripting workshops, are woven into a narrative structure by screenwriters, and the kids play themselves in front of the camera. The result is a remarkable drama about one fated weekend when the teenagers' lives unexpectedly intersect to solve a mystery that has haunted their neighbourhood for years. A truly collaborative process from page to screen, The Point gives sound and vision to these teenagers born on the wrong side of the tracks.\"\n",
      " b\"Performer 'Ken Murray (I)' (qv) first arrived in Hollywood in 1927 a relative unknown from his then hometown of Kingston, New York. Instead of sending postcards of Hollywood back to his family, he instead purchased a 16mm camera, filmed Hollywood stars - many he didn't even know at the time - and sent the resulting film back to his family. This movie is a compilation of much of that footage taken over thirty-five years, plus some additional professional footage provided by his now Hollywood friends. The footage takes place on the street, on movie sets, and wherever Hollywood stars play and/or relax, including their homes. Some of those stars were well established at the time, while others were just at the beginning of what is now their established careers. Murray himself narrates, telling stories of the footage itself and/or of the personalities involved.\"\n",
      " b'Samantha Corey is a bright young woman living in Los Angeles. A successful artist and photographer with a loving boyfriend, Nick, and close-nit group of friends. When Sam organizes a group trip to Nicks Cabin at the idyllic Darkfall Lake little does she know that recently released convict Ray, an ex-flame, is about to track her down. As events unfold on Darkfall Lake Sam is plunged into a situation that pits her own internal light and dark sides against each other, this age old dichotomy simultaneously personified in the characters of Nick and Ray. With the situation changing by the second nothing is as it first seems and no choice is ever as black or white as it may seem. Samantha is a successful artist living in L.A. with her boyfriend Nick and a close-nit group of friends. When she organizes a trip to the idyllic Darkfall Lake she has no idea that ex-con Ray, an old flame, is about to descend on the group.'\n",
      " b'THE ORDER OF REVELATION is a long-form multipart silent 16mm experimental film translating the Quran from Arabic to Visual, in the order in which it was revealed rather than the order in which it was canonized; THE ORDER OF REVELATION: 1-5 is a translation of the first 5 chapters.'\n",
      " b\"The rich Haller family have lost nearly all their money after investing in the stock market. They need more money, but from where? They have a young house-maid, Sara, who inherits a fortune from a rich uncle in Australia. Sara is in love with the son in the family, Georg Haller, but he won't marry for money. She has to spend all her money if she will ever marry him...\"\n",
      " b'Dramatic turn in attitude towards avalanches and natural distasters took place after the 1995 avalanches in Iceland. Resulting in change in policy making and more international collaboration in designing defenses and risk assessments. Journalists also reflect on the effect the disasters had on their work, both professionally and personally.'\n",
      " b'Assi, a screenwriter and poet, is stuck in his personal life. He is full of doubt, disturbing thoughts, and existential restlessness. He is sentenced to community service due to a drunken-driving motorcycle accident in which he was involved. For his community service, he is sent to work with juvenile delinquents in Beersheba - the desert city in southern Israel - who are under house arrest and must attend sessions with Assi in the neighborhood shelter as a condition for their parole. Their extreme personalities, their riotous energy, and their charm awaken in him curiosity and attraction; together, they break through the boundaries of the rehabilitative framework.'\n",
      " b'Kelly Royce is working as a dancer in a bar, and she soon has a secret admire who addresses the love notes to her as \"Kelly 18.\" A fellow stripper assumes that Kelly is the mysterious note writer\\'s eighteenth intended conquest. But, as the notes continue to come her way, Kelly becomes concerned about their true intent, and that she may actually be her admirers eighteenth intended victim.'\n",
      " b\"Katya, Zhanna and Irina are cheerful middle-aged friends. There are no secrets between them, they are used to trust each other and help with any problem. And these ladies do not have to look for trouble - trouble can find them by itself. When having diner in caf\\xc3\\xa9, ladies notice an odd couple at the next table: a woman secretly passes an envelope to a man. And few minutes later they see this man murdered in the toilet. Before the arrival of police Katya managed not only to leave her fingerprints on the gun, but to grab a dead man's envelope with photos. And now our heroines will have to investigate this case by themselves before Katya gets convicted of murder. The victim was a private investigator who had blackmailed people he was hired to follow. They paid for his silence. The friends reviewed his recent cases trying to understand, which blackmailed was most afraid of exposure.\"\n",
      " b'In a truly wacky world, in the 21st century, a group of teens get caught up in some weird events including, but not limited to, being tackled in a field and forced to do YouTube, kidnapped by a demon teddy bear, being kidnapped by a demon teddy bear again, escape the dimension and gain a tool that allows you to hop between universes, accidentally making a device become sentient and nuke the world, being chased by a pumpkin man, time travel, clones of themselves from multiple universes and many more.'\n",
      " b'This is a story about a Christian woman named Tanya James who survives domestic violence. She believed she was in love with her husband, even though he controlled the relationship by abusing her physically and emotionally. The Ambassador from Nigeria who is also her boss comes into the picture. From the moment he laid eyes on Tanya, he was instantly hooked, but being the sweet person that he is he never let her know how he felt. But, then when things started getting out of control with Tanya and her husband, he steps in. A lot of things happen but, luckily it does ends up being a happy ending...for some.'\n",
      " b\"Feature-length documentary centered around the terrifying and world-renowned House of Shock, taking audiences on a dark and fast-paced journey they'll never forget through one of the most extreme haunted houses the world has ever seen. Complete with all the blood, guts, heavy metal and mayhem that has kept House of Shock at the forefront for two decades, this movie peels back the skin to explore the huge and growing obsession with fear itself as the uniting force behind a subculture that can't get enough of things that go bump in the night and make your hair stand on end. The House of Shock, located in New Orleans, Louisiana, and first established by, among others, Pantera frontman - Phil Anselmo, has been a haven for some of heavy metal and hard rock's biggest stars over the years and was named by the Travel Channel as America's most extreme haunted attraction. Despite protests and attacks by religious groups and the impact of Hurricane Katrina, House of Shock continues to bring its own brand of terror to the masses year after year. Featuring live musical performances, freak shows, suspension acts and a skin-melting pyrotechnic stage show, House of Shock prepares its all-too-willing patrons for a horrifying gauntlet of monsters, demons and pure evil that leaves some crying, some laughing and some literally scared to death. HOS, filmed during House of Shock's 20th season, captures this bone-chilling experience from every angle and explores the subculture of the fear-obsessed through interviews with some of the biggest names in metal, hard rock and horror, as well as patrons, fans, dissenters and those who work behind the scenes to bring House of Shock and other horror content and attractions to life. No matter their walk of life, those who crave the rush of being afraid and those who dedicate themselves to creating ever more terrifying experiences for others are bound by their obsession with fear - and a family is born.\"\n",
      " b\"A German documentary studying concepts of hell developed over time in Christianity, Judaism and Islam, often overlapping -but not in Catholicism- with purgatory. Special attention goes to 'physical' methods of torture in the afterlife, as in Dante's Inferno. Their inspiration stems partially from judicial torments, as used during the Inquisition to redeem 'Satanic' sinners, from witches and heretics to mere gay people. Also treated is hell's theological and 'educational' meaning.\"\n",
      " b'John Gunther, who had traveled to many areas of the world, hosted this program that showed two filmed trips to exotic locations. The first film had been shot explicitly for this show; the second film had been made by some other group or person.'\n",
      " b\"This film tells the story about the contributions that women did in the Canadian wartime aviation industry doing manufacturing jobs that were considered unthinkable before World War II. This film in particular focuses on the staff of Canadian Car and Foundry in Fort William which was a major producer of Hurricane and Helldiver fighters as the women did their jobs while dealing the sexism around them. In addition, this film features the story of the company's Chief Aeronautical Engineer, Elsie MacGill, who was the first Canadian female engineering graduate and the world's first woman to design an airplane.\"\n",
      " b\"In 1961 President John F. Kennedy started the United States on a path of discovery and exploration that captures the best of mankind's spirit. On April 12th, 1961, the Soviet Union reports the successful launch, orbit and reentry of the first man in space, Cosmonaut Yuri Gagarin pushing the cold war into a space duel. With the collapse of communism and the rise of freedom in the Russian Federation, recent access to documents in the Kremlin archives reveal a story intended to remain buried forever. Yuri Gagarin, the icon of triumphant communism known world over, was not the first man in space. He was preceded by Vladimir Ilyushin, an unsung hero and the man at the center of this decades old conspiracy.\"\n",
      " b\"The 'End of a Melody' is a tragic story of a young man who makes the decision to give into the destructive ways of peer pressure. Underage drinking is a huge danger in society today and is getting worse. After a track meet, the friends go out to a party. While driving along, Jazmin notices signs of Trae and Lamon intoxication. As they argue, Trae swerves off the road and hits a tree. Days later, Trae is walks through a cemetery and approaches Jazmin's tombstone. He regretfully places a rose on her grave knowing it's his fault she's no longer alive. Trae realizes now the dangers of underage drinking and driving. Unfortunately, it is too late for his girlfriend Jazmin.\"\n",
      " b\"The film has an element of music-tour documentary, but it is equally mixed with travelogue and ethnographic study. It is without the frenetic pace of the Dylan films or the intense purposefulness of the Chicago films, but instead it offers an outsider's curious gaze with an attempt to bridge cultural and geographic gulfs. Sally Grossman's voice-over translations of song lyrics and poetry lend the film a tranquility unlike anything else in Alk's work.\"\n",
      " b\"Inner Beauty portrays a Character name Claire that has been dealing with Low self-esteem issues about her outer body since she was a child, because of the mental and physical abuse she witnessed growing up. She has an ongoing battle with obesity and does not realize her self- worth. Claire meets a man that tells her she is beautiful inside and out and that greater beauty comes from within. Later she finds out that he is a doctor and he offers her help to love herself. She denies any help and continues to battle depression. Low self-esteem is often the root cause of one's inability to lose weight and keep it off for good. In Claire's case she has had difficulty letting go of her past demons and therefore it causes her to have very low self-esteem and she becomes depressed and goes to a very DARK place. Most People with low self-esteem have an internal dialogue that tells them they're not good enough or they are inadequate. In Claire's case she witnessed firsthand verbal and physical abuse because of obesity and it caused a self-fulfilling prophecy. What is Claire's Fate?\"\n",
      " b\"In God's Messengers, the film's director, Itzik Lerner, was allowed full access into the Hilltop Youth of Gilad Farm, the group of Jewish settlers who inhabit the unauthorized outpost of Havat Gilad. The resulting film contains an intimate documentation of the most radical Jewish outpost in all the West Bank. The threat of evacuation hangs over their heads as they confront the Israeli government, its security forces, court system and their Palestinians neighbors. Rebellious, often lawless, and sometimes violent, they are guided by an ideology that knows no compromise. Lerner's intense, nonstop profile of the Hilltop Youth is a seat-of-your-pants journey into the center of the extreme national-religious settler movement.\"\n",
      " b\"A courtroom is a theatre and a death may be staged. Two policemen are accused in a court of law of the unlawful murder of J. J's mother is questioned by the police officers' defense attorney, to determine who her son was: was he really who he is said to have been? Found beside his body is a gun and drugs.\"], shape=(32,), dtype=string)\n",
      "tf.Tensor(\n",
      "[21 21 20  7  7 21  7  7  8  8  8  8  7 24 21  5  7  8  1  5  5  8  7  7\n",
      "  7  7  7  8  7 19  7 21], shape=(32,), dtype=int64)\n"
     ]
    }
   ],
   "source": [
    "for sample_batch in dataset_.take(1):\n",
    "    print(sample_batch[0])\n",
    "    print(sample_batch[1])"
   ]
  },
  {
   "cell_type": "code",
   "execution_count": 11,
   "id": "841e7e00",
   "metadata": {},
   "outputs": [
    {
     "name": "stderr",
     "output_type": "stream",
     "text": [
      "/var/folders/z_/d29z43w90kz6f4kbzv5c9m9r0000gn/T/ipykernel_55467/1668209276.py:1: SettingWithCopyWarning: \n",
      "A value is trying to be set on a copy of a slice from a DataFrame.\n",
      "Try using .loc[row_indexer,col_indexer] = value instead\n",
      "\n",
      "See the caveats in the documentation: https://pandas.pydata.org/pandas-docs/stable/user_guide/indexing.html#returning-a-view-versus-a-copy\n",
      "  train_df_new[\"total_words\"] = train_df_new[\"summary\"].str.split().str.len()\n"
     ]
    },
    {
     "data": {
      "text/plain": [
       "1829"
      ]
     },
     "execution_count": 11,
     "metadata": {},
     "output_type": "execute_result"
    }
   ],
   "source": [
    "train_df_new[\"total_words\"] = train_df_new[\"summary\"].str.split().str.len()\n",
    "vocabulary_size = train_df_new[\"total_words\"].max()\n",
    "vocabulary_size"
   ]
  },
  {
   "cell_type": "code",
   "execution_count": 20,
   "id": "bf3addc3",
   "metadata": {},
   "outputs": [],
   "source": [
    "text_vectorizer = tf.keras.layers.TextVectorization(\n",
    "    max_tokens=vocabulary_size, ngrams=2, output_mode=\"tf_idf\"\n",
    ")\n",
    "\n",
    "# `TextVectorization` layer needs to be adapted as per the vocabulary from our\n",
    "# training set.\n",
    "with tf.device(\"/CPU:0\"):\n",
    "    text_vectorizer.adapt(dataset_.map(lambda text, label: text))\n",
    "\n",
    "\n",
    "train_dataset = dataset_.map(\n",
    "    lambda text, label: (text_vectorizer(text), label),\n",
    "    num_parallel_calls=tf.data.AUTOTUNE,\n",
    ").prefetch(tf.data.AUTOTUNE)"
   ]
  },
  {
   "cell_type": "code",
   "execution_count": 21,
   "id": "2627b985",
   "metadata": {},
   "outputs": [],
   "source": [
    "def make_model():\n",
    "    shallow_mlp_model = tf.keras.Sequential(\n",
    "        [\n",
    "            tf.keras.layers.Dense(512, activation=\"relu\"),\n",
    "            tf.keras.layers.Dense(256, activation=\"relu\"),\n",
    "            tf.keras.layers.Dense(len(le.classes_), activation=\"softmax\"),\n",
    "        ]  \n",
    "    )\n",
    "    return shallow_mlp_model"
   ]
  },
  {
   "cell_type": "code",
   "execution_count": 22,
   "id": "f9bec6ed",
   "metadata": {},
   "outputs": [
    {
     "name": "stdout",
     "output_type": "stream",
     "text": [
      "Epoch 1/20\n",
      "1525/1525 [==============================] - 9s 6ms/step - loss: 2.0041 - accuracy: 0.4859\n",
      "Epoch 2/20\n",
      "1525/1525 [==============================] - 9s 6ms/step - loss: 1.4590 - accuracy: 0.5657\n",
      "Epoch 3/20\n",
      "1525/1525 [==============================] - 9s 6ms/step - loss: 1.2569 - accuracy: 0.6096\n",
      "Epoch 4/20\n",
      "1525/1525 [==============================] - 9s 6ms/step - loss: 1.0478 - accuracy: 0.6666\n",
      "Epoch 5/20\n",
      "1525/1525 [==============================] - 9s 6ms/step - loss: 0.8461 - accuracy: 0.7255\n",
      "Epoch 6/20\n",
      "1525/1525 [==============================] - 9s 6ms/step - loss: 0.6922 - accuracy: 0.7725\n",
      "Epoch 7/20\n",
      "1525/1525 [==============================] - 9s 6ms/step - loss: 0.5780 - accuracy: 0.8092\n",
      "Epoch 8/20\n",
      "1525/1525 [==============================] - 9s 6ms/step - loss: 0.4849 - accuracy: 0.8400\n",
      "Epoch 9/20\n",
      "1525/1525 [==============================] - 9s 6ms/step - loss: 0.3890 - accuracy: 0.8703\n",
      "Epoch 10/20\n",
      "1525/1525 [==============================] - 9s 6ms/step - loss: 0.3384 - accuracy: 0.8891\n",
      "Epoch 11/20\n",
      "1525/1525 [==============================] - 9s 6ms/step - loss: 0.2946 - accuracy: 0.9039\n",
      "Epoch 12/20\n",
      "1525/1525 [==============================] - 9s 6ms/step - loss: 0.2729 - accuracy: 0.9112\n",
      "Epoch 13/20\n",
      "1525/1525 [==============================] - 9s 6ms/step - loss: 0.2550 - accuracy: 0.9180\n",
      "Epoch 14/20\n",
      "1525/1525 [==============================] - 9s 6ms/step - loss: 0.2270 - accuracy: 0.9285\n",
      "Epoch 15/20\n",
      "1525/1525 [==============================] - 9s 6ms/step - loss: 0.1974 - accuracy: 0.9369\n",
      "Epoch 16/20\n",
      "1525/1525 [==============================] - 9s 6ms/step - loss: 0.2003 - accuracy: 0.9377\n",
      "Epoch 17/20\n",
      "1525/1525 [==============================] - 9s 6ms/step - loss: 0.1730 - accuracy: 0.9444\n",
      "Epoch 18/20\n",
      "1525/1525 [==============================] - 9s 6ms/step - loss: 0.1869 - accuracy: 0.9436\n",
      "Epoch 19/20\n",
      "1525/1525 [==============================] - 9s 6ms/step - loss: 0.1661 - accuracy: 0.9480\n",
      "Epoch 20/20\n",
      "1525/1525 [==============================] - 9s 6ms/step - loss: 0.1694 - accuracy: 0.9489\n"
     ]
    }
   ],
   "source": [
    "epochs = 20\n",
    "\n",
    "shallow_mlp_model = make_model()\n",
    "shallow_mlp_model.compile(\n",
    "    loss=\"sparse_categorical_crossentropy\", optimizer=\"adam\", metrics=[\"accuracy\"]\n",
    ")\n",
    "\n",
    "history = shallow_mlp_model.fit(\n",
    "    train_dataset, epochs=epochs\n",
    ")\n"
   ]
  }
 ],
 "metadata": {
  "environment": {
   "name": "tf2-gpu.2-6.m81",
   "type": "gcloud",
   "uri": "gcr.io/deeplearning-platform-release/tf2-gpu.2-6:m81"
  },
  "kernelspec": {
   "display_name": "Python 3 (ipykernel)",
   "language": "python",
   "name": "python3"
  },
  "language_info": {
   "codemirror_mode": {
    "name": "ipython",
    "version": 3
   },
   "file_extension": ".py",
   "mimetype": "text/x-python",
   "name": "python",
   "nbconvert_exporter": "python",
   "pygments_lexer": "ipython3",
   "version": "3.8.2"
  }
 },
 "nbformat": 4,
 "nbformat_minor": 5
}
