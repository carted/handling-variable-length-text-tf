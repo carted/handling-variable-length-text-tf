{
 "cells": [
  {
   "cell_type": "markdown",
   "id": "2f21500c",
   "metadata": {},
   "source": [
    "## Setup"
   ]
  },
  {
   "cell_type": "code",
   "execution_count": null,
   "id": "05df71d4",
   "metadata": {},
   "outputs": [],
   "source": [
    "from tensorflow import keras\n",
    "import tensorflow as tf\n",
    "\n",
    "from sklearn.model_selection import train_test_split\n",
    "import pandas as pd\n",
    "import numpy as np\n",
    "import random\n",
    "import tqdm\n",
    "import time\n",
    "import wandb"
   ]
  },
  {
   "cell_type": "markdown",
   "id": "69af80da",
   "metadata": {},
   "source": [
    "## Data loading"
   ]
  },
  {
   "cell_type": "code",
   "execution_count": null,
   "id": "91cb7d09",
   "metadata": {},
   "outputs": [],
   "source": [
    "train_df = pd.read_csv(\n",
    "    \"./data/train_data.txt\",\n",
    "    engine=\"python\",\n",
    "    sep=\" ::: \",\n",
    "    names=[\"id\", \"movie\", \"genre\", \"summary\"],\n",
    ")\n",
    "\n",
    "test_df = pd.read_csv(\n",
    "    \"./data/test_data_solution.txt\",\n",
    "    engine=\"python\",\n",
    "    sep=\" ::: \",\n",
    "    names=[\"id\", \"movie\", \"genre\", \"summary\"],\n",
    ")"
   ]
  },
  {
   "cell_type": "code",
   "execution_count": null,
   "id": "505d63df",
   "metadata": {},
   "outputs": [],
   "source": [
    "# Viewing training data\n",
    "train_df.head()"
   ]
  },
  {
   "cell_type": "markdown",
   "id": "d2cddd72",
   "metadata": {},
   "source": [
    "## Data splitting"
   ]
  },
  {
   "cell_type": "code",
   "execution_count": null,
   "id": "23ba7b1f",
   "metadata": {},
   "outputs": [],
   "source": [
    "# Split the data using train_test_split from sklearn\n",
    "train_shuffled = train_df.sample(frac=1)\n",
    "train_df_new, val_df = train_test_split(train_shuffled, test_size=0.1, random_state=42)\n",
    "\n",
    "print(f\"Number of training samples: {len(train_df_new)}.\")\n",
    "print(f\"Number of validation samples: {len(val_df)}.\")\n",
    "print(f\"Number of test examples: {len(test_df)}.\")"
   ]
  },
  {
   "cell_type": "markdown",
   "id": "3c94be56",
   "metadata": {},
   "source": [
    "## Data preprocessing"
   ]
  },
  {
   "cell_type": "code",
   "execution_count": null,
   "id": "0ff3c7cd",
   "metadata": {},
   "outputs": [],
   "source": [
    "text_vectorizer = keras.layers.TextVectorization()\n",
    "text_vectorizer.adapt(train_df_new[\"summary\"])"
   ]
  },
  {
   "cell_type": "code",
   "execution_count": null,
   "id": "fed20b13",
   "metadata": {},
   "outputs": [],
   "source": [
    "for i in range(10):\n",
    "    print(text_vectorizer(train_df_new[\"summary\"][i]).shape)"
   ]
  },
  {
   "cell_type": "code",
   "execution_count": null,
   "id": "e205a3f7",
   "metadata": {},
   "outputs": [],
   "source": [
    "train_df_new[\"total_words\"] = train_df_new[\"summary\"].str.split().str.len()\n",
    "vocabulary_size = int(train_df_new[\"total_words\"].max())\n",
    "vocabulary_size"
   ]
  },
  {
   "cell_type": "code",
   "execution_count": null,
   "id": "a4ca6593",
   "metadata": {},
   "outputs": [],
   "source": [
    "label_encoder = keras.layers.StringLookup(vocabulary=train_df_new[\"genre\"].unique())\n",
    "label_encoder.get_vocabulary()"
   ]
  },
  {
   "cell_type": "code",
   "execution_count": null,
   "id": "bb377606",
   "metadata": {},
   "outputs": [],
   "source": [
    "batch_size = 32\n",
    "\n",
    "def preprocess_single_row(summary, label):\n",
    "    summary = text_vectorizer(summary)\n",
    "    label = label_encoder(label)\n",
    "    return summary, label\n",
    "\n",
    "\n",
    "def prepare_dataset(dataframe):\n",
    "    dataset = tf.data.Dataset.from_tensor_slices(\n",
    "        (dataframe[\"summary\"].values, dataframe[\"genre\"].values)\n",
    "    )\n",
    "    dataset = dataset.map(preprocess_single_row, num_parallel_calls=tf.data.AUTOTUNE)\n",
    "    dataset = dataset.bucket_by_sequence_length(\n",
    "        element_length_func=lambda sequence, label: tf.shape(sequence)[0],\n",
    "        bucket_boundaries=[vocabulary_size],\n",
    "        bucket_batch_sizes=[batch_size, batch_size],\n",
    "    )\n",
    "    return dataset.prefetch(tf.data.AUTOTUNE)"
   ]
  },
  {
   "cell_type": "code",
   "execution_count": null,
   "id": "e248539b",
   "metadata": {},
   "outputs": [],
   "source": [
    "training_dataset = prepare_dataset(train_df_new)\n",
    "validation_dataset = prepare_dataset(val_df)\n",
    "test_dataset = prepare_dataset(test_df)\n",
    "\n",
    "\n",
    "for sample_batch in training_dataset.take(10):\n",
    "    print(sample_batch[0].shape)\n",
    "    print(sample_batch[1].shape)"
   ]
  },
  {
   "cell_type": "markdown",
   "id": "e8f1078f",
   "metadata": {},
   "source": [
    "## Model utilities"
   ]
  },
  {
   "cell_type": "code",
   "execution_count": null,
   "id": "613e6281",
   "metadata": {},
   "outputs": [],
   "source": [
    "def make_model(use_gru=False):\n",
    "    inputs = keras.Input(shape=(None,), dtype=\"int64\")\n",
    "    x = keras.layers.Embedding(\n",
    "        input_dim=text_vectorizer.vocabulary_size(),\n",
    "        output_dim=int(np.sqrt(vocabulary_size) // 2),\n",
    "    )(inputs)\n",
    "    \n",
    "    if use_gru:\n",
    "        x = keras.layers.Bidirectional(keras.layers.GRU(32))(x)\n",
    "    else:\n",
    "        x = keras.layers.GlobalAveragePooling1D()(x)\n",
    "    x = keras.layers.Dense(512, activation=\"relu\")(x)\n",
    "    x = keras.layers.Dense(256, activation=\"relu\")(x)\n",
    "    outputs = keras.layers.Dense(label_encoder.vocabulary_size(), activation=\"softmax\")(\n",
    "        x\n",
    "    )\n",
    "    shallow_mlp_model = keras.Model(inputs, outputs)\n",
    "    return shallow_mlp_model"
   ]
  },
  {
   "cell_type": "code",
   "execution_count": null,
   "id": "4e7e213e",
   "metadata": {},
   "outputs": [],
   "source": [
    "make_model().summary()"
   ]
  },
  {
   "cell_type": "markdown",
   "id": "ab791680",
   "metadata": {},
   "source": [
    "## Training and evaluation with smart batching"
   ]
  },
  {
   "cell_type": "code",
   "execution_count": null,
   "id": "8c1c4b1b",
   "metadata": {},
   "outputs": [],
   "source": [
    "epochs = 60\n",
    "\n",
    "for i in range(5):\n",
    "    wandb.init(\n",
    "        project=\"smart-batching-simpler-models\",\n",
    "        entity=\"carted\",\n",
    "        name=f\"smart-batching-run-{i}\",\n",
    "    )\n",
    "    shallow_mlp_model = make_model()\n",
    "    shallow_mlp_model.compile(\n",
    "        loss=\"sparse_categorical_crossentropy\", optimizer=\"adam\", metrics=[\"accuracy\"]\n",
    "    )\n",
    "    callbacks = [\n",
    "        keras.callbacks.ReduceLROnPlateau(patience=5),\n",
    "        wandb.keras.WandbCallback(),\n",
    "    ]\n",
    "\n",
    "    start_time = time.time()\n",
    "    history = shallow_mlp_model.fit(\n",
    "        training_dataset,\n",
    "        validation_data=validation_dataset,\n",
    "        epochs=epochs,\n",
    "        callbacks=callbacks,\n",
    "    )\n",
    "    end_time = time.time()\n",
    "    print(f\"Model took {(end_time - start_time):.2f} seconds to train.\")\n",
    "    wandb.log({\"model_training_time_secs\": end_time - start_time})\n",
    "\n",
    "    _, accuracy = shallow_mlp_model.evaluate(test_dataset)\n",
    "    print(f\"Top-1 accuracy on the test set: {round(accuracy * 100, 2)}%.\")\n",
    "    wandb.log({\"top_1_accuracy_test_set\": accuracy})\n",
    "\n",
    "    wandb.finish()"
   ]
  },
  {
   "cell_type": "markdown",
   "id": "6e9f380f",
   "metadata": {},
   "source": [
    "### With GRU"
   ]
  },
  {
   "cell_type": "code",
   "execution_count": null,
   "id": "248ee5ac",
   "metadata": {},
   "outputs": [],
   "source": [
    "epochs = 60\n",
    "\n",
    "for i in range(5):\n",
    "    wandb.init(\n",
    "        project=\"smart-batching-simpler-models\",\n",
    "        entity=\"carted\",\n",
    "        name=f\"smart-batching-with-gru-run-{i}\",\n",
    "    )\n",
    "    shallow_mlp_model = make_model(use_gru=True)\n",
    "    shallow_mlp_model.compile(\n",
    "        loss=\"sparse_categorical_crossentropy\", optimizer=\"adam\", metrics=[\"accuracy\"]\n",
    "    )\n",
    "    callbacks = [\n",
    "        keras.callbacks.ReduceLROnPlateau(patience=5),\n",
    "        wandb.keras.WandbCallback(),\n",
    "    ]\n",
    "\n",
    "    start_time = time.time()\n",
    "    history = shallow_mlp_model.fit(\n",
    "        training_dataset,\n",
    "        validation_data=validation_dataset,\n",
    "        epochs=epochs,\n",
    "        callbacks=callbacks,\n",
    "    )\n",
    "    end_time = time.time()\n",
    "    print(f\"Model took {(end_time - start_time):.2f} seconds to train.\")\n",
    "    wandb.log({\"model_training_time_secs\": end_time - start_time})\n",
    "\n",
    "    _, accuracy = shallow_mlp_model.evaluate(test_dataset)\n",
    "    print(f\"Top-1 accuracy on the test set: {round(accuracy * 100, 2)}%.\")\n",
    "    wandb.log({\"top_1_accuracy_test_set\": accuracy})\n",
    "\n",
    "    wandb.finish()"
   ]
  },
  {
   "cell_type": "markdown",
   "id": "dac55d30",
   "metadata": {},
   "source": [
    "## Training and evaluation with fixed-length padding"
   ]
  },
  {
   "cell_type": "code",
   "execution_count": null,
   "id": "8a11e7bc",
   "metadata": {},
   "outputs": [],
   "source": [
    "text_vectorizer = keras.layers.TextVectorization(output_sequence_length=vocabulary_size)\n",
    "text_vectorizer.adapt(train_df_new[\"summary\"])\n",
    "\n",
    "\n",
    "def preprocess_fixed_length(summary, label):\n",
    "    summary = text_vectorizer(summary)\n",
    "    label = label_encoder(label)\n",
    "    return summary, label\n",
    "\n",
    "\n",
    "def prepare_dataset_fixed_length(dataframe):\n",
    "    dataset = tf.data.Dataset.from_tensor_slices(\n",
    "        (dataframe[\"summary\"].values, dataframe[\"genre\"].values)\n",
    "    )\n",
    "    dataset = dataset.map(preprocess_fixed_length, num_parallel_calls=tf.data.AUTOTUNE)\n",
    "    dataset = dataset.batch(batch_size)\n",
    "    return dataset.prefetch(tf.data.AUTOTUNE)"
   ]
  },
  {
   "cell_type": "code",
   "execution_count": null,
   "id": "c9d0070d",
   "metadata": {},
   "outputs": [],
   "source": [
    "training_dataset = prepare_dataset_fixed_length(train_df_new)\n",
    "validation_dataset = prepare_dataset_fixed_length(val_df)\n",
    "test_dataset = prepare_dataset_fixed_length(test_df)\n",
    "\n",
    "\n",
    "for sample_batch in training_dataset.take(10):\n",
    "    print(sample_batch[0].shape)\n",
    "    print(sample_batch[1].shape)"
   ]
  },
  {
   "cell_type": "code",
   "execution_count": null,
   "id": "affd25d2",
   "metadata": {},
   "outputs": [],
   "source": [
    "epochs = 60\n",
    "\n",
    "for i in range(5):\n",
    "    wandb.init(\n",
    "        project=\"smart-batching-simpler-models\",\n",
    "        entity=\"carted\",\n",
    "        name=f\"fixed-length-padding-run-{i}\",\n",
    "    )\n",
    "    shallow_mlp_model = make_model()\n",
    "    shallow_mlp_model.compile(\n",
    "        loss=\"sparse_categorical_crossentropy\", optimizer=\"adam\", metrics=[\"accuracy\"]\n",
    "    )\n",
    "    callbacks = [\n",
    "        keras.callbacks.ReduceLROnPlateau(patience=5),\n",
    "        wandb.keras.WandbCallback(),\n",
    "    ]\n",
    "\n",
    "    start_time = time.time()\n",
    "    history = shallow_mlp_model.fit(\n",
    "        training_dataset,\n",
    "        validation_data=validation_dataset,\n",
    "        epochs=epochs,\n",
    "        callbacks=callbacks,\n",
    "    )\n",
    "    end_time = time.time()\n",
    "    print(f\"Model took {(end_time - start_time):.2f} seconds to train.\")\n",
    "    wandb.log({\"model_training_time_secs\": end_time - start_time})\n",
    "\n",
    "    _, accuracy = shallow_mlp_model.evaluate(test_dataset)\n",
    "    print(f\"Top-1 accuracy on the test set: {round(accuracy * 100, 2)}%.\")\n",
    "    wandb.log({\"top_1_accuracy_test_set\": accuracy})\n",
    "\n",
    "    wandb.finish()"
   ]
  },
  {
   "cell_type": "code",
   "execution_count": null,
   "id": "c9207b58",
   "metadata": {},
   "outputs": [],
   "source": [
    "epochs = 60\n",
    "\n",
    "for i in range(5):\n",
    "    wandb.init(\n",
    "        project=\"smart-batching-simpler-models\",\n",
    "        entity=\"carted\",\n",
    "        name=f\"fixed-length-padding-with-gru-run-{i}\",\n",
    "    )\n",
    "    shallow_mlp_model = make_model(use_gru=True)\n",
    "    shallow_mlp_model.compile(\n",
    "        loss=\"sparse_categorical_crossentropy\", optimizer=\"adam\", metrics=[\"accuracy\"]\n",
    "    )\n",
    "    callbacks = [\n",
    "        keras.callbacks.ReduceLROnPlateau(patience=5),\n",
    "        wandb.keras.WandbCallback(),\n",
    "    ]\n",
    "\n",
    "    start_time = time.time()\n",
    "    history = shallow_mlp_model.fit(\n",
    "        training_dataset,\n",
    "        validation_data=validation_dataset,\n",
    "        epochs=epochs,\n",
    "        callbacks=callbacks,\n",
    "    )\n",
    "    end_time = time.time()\n",
    "    print(f\"Model took {(end_time - start_time):.2f} seconds to train.\")\n",
    "    wandb.log({\"model_training_time_secs\": end_time - start_time})\n",
    "\n",
    "    _, accuracy = shallow_mlp_model.evaluate(test_dataset)\n",
    "    print(f\"Top-1 accuracy on the test set: {round(accuracy * 100, 2)}%.\")\n",
    "    wandb.log({\"top_1_accuracy_test_set\": accuracy})\n",
    "\n",
    "    wandb.finish()"
   ]
  }
 ],
 "metadata": {
  "environment": {
   "name": "tf2-gpu.2-6.m81",
   "type": "gcloud",
   "uri": "gcr.io/deeplearning-platform-release/tf2-gpu.2-6:m81"
  },
  "kernelspec": {
   "display_name": "Python 3 (ipykernel)",
   "language": "python",
   "name": "python3"
  },
  "language_info": {
   "codemirror_mode": {
    "name": "ipython",
    "version": 3
   },
   "file_extension": ".py",
   "mimetype": "text/x-python",
   "name": "python",
   "nbconvert_exporter": "python",
   "pygments_lexer": "ipython3",
   "version": "3.8.2"
  }
 },
 "nbformat": 4,
 "nbformat_minor": 5
}
