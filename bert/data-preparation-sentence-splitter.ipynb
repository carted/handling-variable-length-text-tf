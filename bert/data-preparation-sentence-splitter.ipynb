{
 "cells": [
  {
   "cell_type": "markdown",
   "id": "b9ce6d15",
   "metadata": {},
   "source": [
    "## References\n",
    "\n",
    "* https://www.kaggle.com/rohitganji13/film-genre-classification-using-nlp\n",
    "* Internal (Carted) TFRecord utilities contributed by [Nilabhra Roy Chowdhury](https://www.linkedin.com/in/nilabhraroychowdhury/)"
   ]
  },
  {
   "cell_type": "markdown",
   "id": "0fee8005",
   "metadata": {},
   "source": [
    "## Setup"
   ]
  },
  {
   "cell_type": "code",
   "execution_count": null,
   "id": "a1849f47",
   "metadata": {},
   "outputs": [],
   "source": [
    "!pip install -U sentence-splitter tensorflow-hub tensorflow_text -q"
   ]
  },
  {
   "cell_type": "code",
   "execution_count": null,
   "id": "d36e7774",
   "metadata": {},
   "outputs": [],
   "source": [
    "!gdown --id 1CvkRnGC8b_-n1NcbwcwxcIq7SusmDMb5 -O train_data.txt\n",
    "!gdown --id 1h1evGF5NVi2p8RoWxl8xhpOod0ZN_-ky -O test_data_solution.txt "
   ]
  },
  {
   "cell_type": "code",
   "execution_count": null,
   "id": "65fc8c36",
   "metadata": {},
   "outputs": [],
   "source": [
    "import tensorflow as tf\n",
    "import tensorflow_text as text\n",
    "import tensorflow_hub as hub\n",
    "\n",
    "from sklearn.preprocessing import LabelEncoder\n",
    "from sklearn.model_selection import train_test_split\n",
    "from sentence_splitter import split_text_into_sentences\n",
    "from typing import List, Callable, Tuple, Dict\n",
    "import pandas as pd\n",
    "import numpy as np\n",
    "import random\n",
    "import tqdm\n",
    "\n",
    "SEED = 42\n",
    "tf.random.set_seed(SEED)\n",
    "np.random.seed(SEED)\n",
    "random.seed(SEED)"
   ]
  },
  {
   "cell_type": "markdown",
   "id": "fe67b35a",
   "metadata": {},
   "source": [
    "## Data loading\n",
    "\n",
    "Data comes from here: https://www.kaggle.com/hijest/genre-classification-dataset-imdb."
   ]
  },
  {
   "cell_type": "code",
   "execution_count": null,
   "id": "a39fc6ff",
   "metadata": {},
   "outputs": [],
   "source": [
    "train_df = pd.read_csv(\n",
    "    \"train_data.txt\",\n",
    "    engine=\"python\",\n",
    "    sep=\" ::: \",\n",
    "    names=[\"id\", \"movie\", \"genre\", \"summary\"],\n",
    ")\n",
    "\n",
    "test_df = pd.read_csv(\n",
    "    \"test_data_solution.txt\",\n",
    "    engine=\"python\",\n",
    "    sep=\" ::: \",\n",
    "    names=[\"id\", \"movie\", \"genre\", \"summary\"],\n",
    ")"
   ]
  },
  {
   "cell_type": "code",
   "execution_count": null,
   "id": "4c1b5c6d",
   "metadata": {},
   "outputs": [],
   "source": [
    "# Viewing training data\n",
    "train_df.head()"
   ]
  },
  {
   "cell_type": "markdown",
   "id": "d2754413",
   "metadata": {},
   "source": [
    "## Data splitting"
   ]
  },
  {
   "cell_type": "code",
   "execution_count": null,
   "id": "51e8d0d6",
   "metadata": {},
   "outputs": [],
   "source": [
    "# Split the data using train_test_split from sklearn\n",
    "train_shuffled = train_df.sample(frac=1.0)\n",
    "train_df, val_df = train_test_split(train_shuffled, test_size=0.1)\n",
    "\n",
    "print(f\"Number of training samples: {len(train_df)}.\")\n",
    "print(f\"Number of validation samples: {len(val_df)}.\")\n",
    "print(f\"Number of test examples: {len(test_df)}.\")"
   ]
  },
  {
   "cell_type": "code",
   "execution_count": null,
   "id": "149c90e6",
   "metadata": {},
   "outputs": [],
   "source": [
    "le = LabelEncoder()\n",
    "le.fit(train_df[\"genre\"].values)\n",
    "\n",
    "train_df[\"genre\"] = le.transform(train_df[\"genre\"].values)\n",
    "val_df[\"genre\"] = le.transform(val_df[\"genre\"].values)\n",
    "test_df[\"genre\"] = le.transform(test_df[\"genre\"].values)"
   ]
  },
  {
   "cell_type": "markdown",
   "id": "3a2996d9",
   "metadata": {},
   "source": [
    "## Data preprocessing utilities"
   ]
  },
  {
   "cell_type": "code",
   "execution_count": null,
   "id": "13e44536",
   "metadata": {},
   "outputs": [],
   "source": [
    "def set_tokenizer(preprocessor_path: str) -> Callable:\n",
    "    \"\"\"Decorator to set the desired tokenizer for a tokenizing\n",
    "        function from a TensorFlow Hub URL.\n",
    "\n",
    "    Arguments:\n",
    "        preprocessor_path {str} -- URL of the TF-Hub preprocessor.\n",
    "\n",
    "    Returns:\n",
    "        Callable -- A function with the `tokenizer` attribute set.\n",
    "    \"\"\"\n",
    "\n",
    "    def decoration(func: Callable):\n",
    "        # Loading the preprocessor from TF-Hub\n",
    "        preprocessor = hub.load(preprocessor_path)\n",
    "\n",
    "        # Setting an attribute called `tokenizer` to\n",
    "        # the passed function\n",
    "        func.tokenizer = preprocessor.tokenize\n",
    "        return func\n",
    "\n",
    "    return decoration"
   ]
  },
  {
   "cell_type": "code",
   "execution_count": null,
   "id": "f1e8a01f",
   "metadata": {},
   "outputs": [],
   "source": [
    "def _bytes_feature(bytes_input: bytes) -> tf.train.Feature:\n",
    "    \"\"\"Encodes given data as a byte feature.\"\"\"\n",
    "    bytes_list = tf.train.BytesList(value=[bytes_input])\n",
    "    return tf.train.Feature(bytes_list=bytes_list)\n",
    "\n",
    "\n",
    "def _ints_feature(int_input: int) -> tf.train.Feature:\n",
    "    \"\"\"Encoded given data as an integer feature.\"\"\"\n",
    "    int64_list = tf.train.Int64List(value=int_input)\n",
    "    return tf.train.Feature(int64_list=int64_list)\n",
    "\n",
    "\n",
    "def _ragged_feature(\n",
    "    ragged_input: tf.RaggedTensor, name: str\n",
    ") -> Dict[str, tf.train.Feature]:\n",
    "    \"\"\"Returns a dictionary to represent a single ragged tensor as int64 features.\"\"\"\n",
    "    int64_components = {f\"{name}_values\": _ints_feature(ragged_input.flat_values)}\n",
    "\n",
    "    # Collecting boundary informations for the ragged dimensions\n",
    "    for i, d in enumerate(ragged_input.nested_row_splits):\n",
    "        int64_components[f\"{name}_splits_{i}\"] = _ints_feature(d)\n",
    "    return int64_components"
   ]
  },
  {
   "cell_type": "markdown",
   "id": "3ebdd96c",
   "metadata": {},
   "source": [
    "To know more about these utilities refer to the official guide [here](https://www.tensorflow.org/tutorials/load_data/tfrecord)."
   ]
  },
  {
   "cell_type": "code",
   "execution_count": null,
   "id": "7da6d30c",
   "metadata": {},
   "outputs": [],
   "source": [
    "@set_tokenizer(\n",
    "    preprocessor_path=\"https://tfhub.dev/tensorflow/bert_en_uncased_preprocess/3\"\n",
    ")\n",
    "def _tokenize_text(text: List[str]) -> Tuple[tf.RaggedTensor, List[int]]:\n",
    "    \"\"\"Tokenizes a list of sentences.\n",
    "    Args:\n",
    "        text (List[str]): A list of sentences.\n",
    "    Returns:\n",
    "        Tuple[tf.RaggedTensor, List[int]]: Tokenized and indexed sentences, list containing\n",
    "        the number of tokens per sentence.\n",
    "    \"\"\"\n",
    "    token_list = _tokenize_text.tokenizer(tf.constant(text))\n",
    "    token_lens = [tokens.flat_values.shape[-1] for tokens in token_list]\n",
    "    return token_list, token_lens\n",
    "\n",
    "\n",
    "def get_serialized_text_features(features):\n",
    "    \"\"\"Serializes all the Ragged features.\"\"\"\n",
    "    tokens = features[\"tokens\"]\n",
    "    tokens = _ragged_feature(tokens, \"summary_sentences\")\n",
    "\n",
    "    lens = features[\"lens\"]\n",
    "    lens = tf.ragged.constant([lens])\n",
    "    lens = _ragged_feature(lens, \"summary_sentence_lens\")\n",
    "\n",
    "    return tokens, lens"
   ]
  },
  {
   "cell_type": "code",
   "execution_count": null,
   "id": "5f3c3925",
   "metadata": {},
   "outputs": [],
   "source": [
    "def create_example(row):\n",
    "    \"\"\"Creates one TFRecord example.\"\"\"\n",
    "    summary = row[\"summary\"]\n",
    "    label = row[\"genre\"]\n",
    "\n",
    "    description = bytes(summary, encoding=\"utf-8\")\n",
    "    description_tokens, description_lens = _tokenize_text(\n",
    "        split_text_into_sentences(summary, language=\"en\")\n",
    "    )\n",
    "    num_sentences = len(description_lens)\n",
    "\n",
    "    features = {\n",
    "        \"tokens\": description_tokens,\n",
    "        \"lens\": description_lens,\n",
    "    }\n",
    "    text_tokens, text_lens = get_serialized_text_features(features)\n",
    "\n",
    "    feature = {\n",
    "        \"summary\": _bytes_feature(description),\n",
    "        \"summary_num_sentences\": _ints_feature([num_sentences]),\n",
    "        \"label\": _ints_feature([label]),\n",
    "    }\n",
    "\n",
    "    feature.update(text_tokens)\n",
    "    feature.update(text_lens)\n",
    "\n",
    "    feature = tf.train.Features(feature=feature)\n",
    "    example = tf.train.Example(features=feature)\n",
    "    return example\n",
    "\n",
    "\n",
    "def write_tfrecords(file_name, data):\n",
    "    \"\"\"Serializes the data as string.\"\"\"\n",
    "    with tf.io.TFRecordWriter(file_name) as writer:\n",
    "        for i, row in data.iterrows():\n",
    "            example = create_example(row)\n",
    "            writer.write(example.SerializeToString())"
   ]
  },
  {
   "cell_type": "markdown",
   "id": "ed0a0aed",
   "metadata": {},
   "source": [
    "## Write to TFRecords"
   ]
  },
  {
   "cell_type": "code",
   "execution_count": null,
   "id": "347762b1",
   "metadata": {},
   "outputs": [],
   "source": [
    "TFRECORDS_DIR = \"tfrecords-sentence-splitter\"\n",
    "tf.io.gfile.makedirs(TFRECORDS_DIR)"
   ]
  },
  {
   "cell_type": "code",
   "execution_count": null,
   "id": "5cf499c1",
   "metadata": {},
   "outputs": [],
   "source": [
    "def write_data(data, chunk_size, files_prefix):\n",
    "    \"\"\"Serializes data as TFRecord shards.\"\"\"\n",
    "    example_counter = 0\n",
    "    chunk_count = 1\n",
    "    for i in tqdm.tqdm(range(0, data.shape[0], chunk_size)):\n",
    "        chunk = data.iloc[i : i + chunk_size, :]\n",
    "        file_name = f\"{TFRECORDS_DIR}/{files_prefix}-{chunk_count:02d}.tfrecord\"\n",
    "        write_tfrecords(file_name, chunk)\n",
    "        example_counter += chunk.shape[0]\n",
    "        chunk_count += 1\n",
    "    return example_counter"
   ]
  },
  {
   "cell_type": "code",
   "execution_count": null,
   "id": "d4250f64",
   "metadata": {},
   "outputs": [],
   "source": [
    "CHUNK_SIZE = 100"
   ]
  },
  {
   "cell_type": "code",
   "execution_count": null,
   "id": "17ec541e",
   "metadata": {},
   "outputs": [],
   "source": [
    "train_example_count = write_data(train_df, CHUNK_SIZE, \"train\")\n",
    "train_example_count"
   ]
  },
  {
   "cell_type": "code",
   "execution_count": null,
   "id": "4192fc15",
   "metadata": {},
   "outputs": [],
   "source": [
    "val_example_count = write_data(val_df, CHUNK_SIZE, \"val\")\n",
    "val_example_count"
   ]
  },
  {
   "cell_type": "code",
   "execution_count": null,
   "id": "a6724a0e",
   "metadata": {},
   "outputs": [],
   "source": [
    "test_example_count = write_data(test_df, CHUNK_SIZE, \"test\")\n",
    "test_example_count"
   ]
  }
 ],
 "metadata": {
  "kernelspec": {
   "display_name": "Python 3 (ipykernel)",
   "language": "python",
   "name": "python3"
  },
  "language_info": {
   "codemirror_mode": {
    "name": "ipython",
    "version": 3
   },
   "file_extension": ".py",
   "mimetype": "text/x-python",
   "name": "python",
   "nbconvert_exporter": "python",
   "pygments_lexer": "ipython3",
   "version": "3.8.12"
  }
 },
 "nbformat": 4,
 "nbformat_minor": 5
}
